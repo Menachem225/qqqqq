{
 "cells": [
  {
   "cell_type": "markdown",
   "metadata": {},
   "source": [
    "#### Dupe File"
   ]
  },
  {
   "cell_type": "code",
   "execution_count": 5,
   "metadata": {},
   "outputs": [],
   "source": [
    "import os\n",
    "import shutil\n",
    "\n",
    "# Put all your image files in this folder\n",
    "plates_folder = './plates/'\n",
    "\n",
    "# Output folder for your trimaps\n",
    "trimap_folder = './trimaps/'\n",
    "\n",
    "# Count the total number of images in plates_folder\n",
    "total_plates = len(os.listdir(plates_folder))\n",
    "\n",
    "file_count = 1\n",
    "\n",
    "# Copy license_plate.png and paste it into the Trimaps folder.\n",
    "# Repeat this for the total number of total_plates\n",
    "for i in range(1,total_plates+1,1):\n",
    "    shutil.copyfile('license_plate_trimap.png', trimap_folder + f'license_plate_{file_count}.png')\n",
    "    file_count += 1"
   ]
  }
 ],
 "metadata": {
  "kernelspec": {
   "display_name": "Python 3 (ipykernel)",
   "language": "python",
   "name": "python3"
  },
  "language_info": {
   "codemirror_mode": {
    "name": "ipython",
    "version": 3
   },
   "file_extension": ".py",
   "mimetype": "text/x-python",
   "name": "python",
   "nbconvert_exporter": "python",
   "pygments_lexer": "ipython3",
   "version": "3.9.10"
  }
 },
 "nbformat": 4,
 "nbformat_minor": 4
}
